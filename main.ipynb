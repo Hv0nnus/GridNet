{
 "cells": [
  {
   "cell_type": "markdown",
   "metadata": {},
   "source": [
    "# Package"
   ]
  },
  {
   "cell_type": "code",
   "execution_count": 1,
   "metadata": {
    "collapsed": true
   },
   "outputs": [],
   "source": [
    "#Torch related package\n",
    "from __future__ import print_function\n",
    "import argparse\n",
    "import torch\n",
    "import torch.nn as nn\n",
    "import torch.nn.functional as F\n",
    "import torch.optim as optim\n",
    "from torchvision import datasets, transforms\n",
    "from torch.autograd import Variable\n",
    "import torchviz\n",
    "from torch.utils import data"
   ]
  },
  {
   "cell_type": "code",
   "execution_count": 2,
   "metadata": {},
   "outputs": [
    {
     "name": "stdout",
     "output_type": "stream",
     "text": [
      "6021\n"
     ]
    }
   ],
   "source": [
    "#cuda related package\n",
    "import torch.cuda\n",
    "import torch.backends.cudnn as cudnn\n",
    "print(torch.backends.cudnn.version())"
   ]
  },
  {
   "cell_type": "code",
   "execution_count": 3,
   "metadata": {},
   "outputs": [
    {
     "name": "stderr",
     "output_type": "stream",
     "text": [
      "/home/tanguy/anaconda3/lib/python3.6/site-packages/ggplot/utils.py:81: FutureWarning: pandas.tslib is deprecated and will be removed in a future version.\n",
      "You can access Timestamp as pandas.Timestamp\n",
      "  pd.tslib.Timestamp,\n",
      "/home/tanguy/anaconda3/lib/python3.6/site-packages/ggplot/stats/smoothers.py:4: FutureWarning: The pandas.lib module is deprecated and will be removed in a future version. These are private functions and can be accessed from pandas._libs.lib instead\n",
      "  from pandas.lib import Timestamp\n",
      "/home/tanguy/anaconda3/lib/python3.6/site-packages/statsmodels/compat/pandas.py:56: FutureWarning: The pandas.core.datetools module is deprecated and will be removed in a future version. Please use the pandas.tseries module instead.\n",
      "  from pandas.core import datetools\n"
     ]
    }
   ],
   "source": [
    "# Other package\n",
    "import time\n",
    "import random\n",
    "from ggplot import *\n",
    "import pandas as pd\n",
    "import numpy as np\n",
    "import matplotlib.pyplot as plt\n",
    "from os.path import exists\n",
    "import csv\n",
    "import os\n",
    "from PIL import Image\n",
    "import seaborn as sns; sns.set()\n"
   ]
  },
  {
   "cell_type": "code",
   "execution_count": null,
   "metadata": {
    "collapsed": true
   },
   "outputs": [],
   "source": [
    "%reload_ext autoreload\n",
    "%autoreload 2"
   ]
  },
  {
   "cell_type": "code",
   "execution_count": 156,
   "metadata": {
    "collapsed": true
   },
   "outputs": [],
   "source": [
    "%run GridNet_structure.ipynb #Good trick to launch another notebook\n",
    "%run Plot.ipynb \n",
    "%run Save_import.ipynb\n",
    "%run Loss_Error.ipynb"
   ]
  },
  {
   "cell_type": "markdown",
   "metadata": {},
   "source": [
    "# Commentaire pour la suite (TODO)"
   ]
  },
  {
   "cell_type": "markdown",
   "metadata": {},
   "source": [
    "Le batch normalisation, il y en existe plusieurs, regarder exactement lequel on veut.\n",
    "\n",
    "On peut enlever le biais dans les convolutions avant la normalisation\n",
    "\n",
    "Le diminution de la taille des images, pas clair cette division par deux....\n",
    "\n",
    "Change la fonction de cout\n",
    "\n",
    "Il faut enlever les biais quand il y a une batch normalisation apres\n",
    "\n",
    "Vérifier ce qu'est la mesure de test IoU"
   ]
  },
  {
   "cell_type": "markdown",
   "metadata": {},
   "source": [
    "# Code"
   ]
  },
  {
   "cell_type": "code",
   "execution_count": 5,
   "metadata": {
    "collapsed": true
   },
   "outputs": [],
   "source": [
    "class Parameters():\n",
    "    def __init__(self,\n",
    "                 nColumns = 2,\n",
    "                 nFeatMaps = [3,6],\n",
    "                 nFeatureMaps_init = 3,\n",
    "                 number_classes = 20,\n",
    "\n",
    "                 width_image_initial = 2048, height_image_initial = 1024,\n",
    "                 width_image_crop = 19, height_image_crop = 19,\n",
    "\n",
    "                 dropFactor = 0.1,\n",
    "                 learning_rate=0.01,\n",
    "                 weight_decay = 5*10**(-6),\n",
    "                 beta1 = 0.9,\n",
    "                 beta2 = 0.999,\n",
    "                 epsilon = 1*10**(-8),\n",
    "                 batch_size = 2,\n",
    "                 epoch_total = 10,\n",
    "                 # The actual epoch is not null if we train the network which is already train\n",
    "                 actual_epoch = 0,\n",
    "\n",
    "                 path_save_net = \"Model/\",\n",
    "                 #Name of the network, used for store\n",
    "                 name_network = \"test\",\n",
    "                 train_number = 0,\n",
    "                 path_CSV = \"CSV/\",\n",
    "                 path_data = \"/media/tanguy/Seagate Expansion Drive/Cityscapes_Copy\"):\n",
    "        \n",
    "        super(Parameters, self).__init__()\n",
    "        # Image\n",
    "        self.number_classes = number_classes\n",
    "        self.width_image_initial = width_image_initial\n",
    "        self.height_image_initial = height_image_initial\n",
    "        self.width_image_crop = width_image_crop\n",
    "        self.height_image_crop = height_image_crop\n",
    "        # Number of feature map at the begining, if RGB image it would be 3\n",
    "        self.nFeatureMaps_init = nFeatureMaps_init\n",
    "        self.path_data = path_data\n",
    "        \n",
    "        # GridNet\n",
    "        self.nColumns = nColumns\n",
    "        self.nFeatMaps = nFeatMaps\n",
    "        self.name_network = name_network\n",
    "        self.train_number = train_number\n",
    "        \n",
    "        #Save\n",
    "        self.path_CSV = path_CSV\n",
    "        self.path_save_net = path_save_net\n",
    "        \n",
    "        \n",
    "        # Learning\n",
    "        self.dropFactor = dropFactor\n",
    "        self.learning_rate = learning_rate\n",
    "        self.weight_decay = weight_decay\n",
    "        self.beta1 = beta1\n",
    "        self.beta2 = beta2\n",
    "        self.epsilon = epsilon\n",
    "        self.batch_size = batch_size\n",
    "        self.epoch_total = epoch_total\n",
    "        self.actual_epoch = actual_epoch"
   ]
  },
  {
   "cell_type": "code",
   "execution_count": 118,
   "metadata": {
    "collapsed": true
   },
   "outputs": [],
   "source": [
    "\"\"\"train return nothing but modify the weight of the network and call save_error to store the error.\n",
    "    (0) = parameters : list of parameters of the network\n",
    "    (1) = x_train : inputs of the training set\n",
    "    (2) = y_train : outputs of the training set\n",
    "    (3) = x_validation : inputs of the validation set\n",
    "    (4) = y_validation : outputs of the validation set\n",
    "\"\"\"\n",
    "def train(parameters,network,train_loader,val_loader):\n",
    "     \n",
    "    # create your optimizer\n",
    "    optimizer = optim.Adam(params = network.parameters(), lr = parameters.learning_rate,\n",
    "                           betas = (parameters.beta1, parameters.beta2),\n",
    "                           eps = parameters.epsilon, weight_decay = parameters.weight_decay)\n",
    "    for epoch in range(parameters.epoch_total):\n",
    "\n",
    "        for i,(x_batch, y_batch) in enumerate(train_loader):\n",
    "\n",
    "            # zero the gradient buffers\n",
    "            optimizer.zero_grad()\n",
    "            \n",
    "            #Transform into Variable\n",
    "            x_batch, y_batch = Variable(x_batch), Variable(y_batch)\n",
    "            \n",
    "            # Compute the forward function\n",
    "            y_batch_estimated = network(x_batch)\n",
    "            \n",
    "            #Get the error\n",
    "            loss = criterion(y_batch_estimated, y_batch)\n",
    "            \n",
    "            #Compute the backward function\n",
    "            loss.backward()\n",
    "            \n",
    "            #Save the entire model with parameter and network\n",
    "            save_checkpoint({\n",
    "                'epoch': epoch + 1,\n",
    "                'parameters': parameters,\n",
    "                'state_dict': network.state_dict(),\n",
    "                'optimizer' : optimizer.state_dict(),\n",
    "            },filename = parameters.path_save_net + str(parameters.actual_epoch) + parameters.name_network +\n",
    "                str(parameters.train_number) + \"checkpoint.pth.tar\")\n",
    "            \n",
    "            # Does the update according to the optimizer define above\n",
    "            optimizer.step()\n",
    "            \n",
    "            #Save error of \n",
    "            save_error(x = x_batch,y = y_batch,network = network,epoch = epoch,name_network = parameters.name_network,\n",
    "                       train_number = parameters.train_number,path_CSV = parameters.path_CSV,set_type = \"train\")\n",
    "\n",
    "        # Save the error in CSV\n",
    "        for i,(x_val_batch, y_val_batch) in enumerate(val_loader):\n",
    "            x_val_batch, y_val_batch = Variable(x_val_batch), Variable(y_val_batch)\n",
    "            save_error(x = x_val_batch,y = y_val_batch,network = network,epoch = epoch,\n",
    "                       name_network = parameters.name_network, train_number = parameters.train_number,\n",
    "                       path_CSV = parameters.path_CSV, set_type = \"validation\")\n",
    "\n",
    "    return()"
   ]
  },
  {
   "cell_type": "code",
   "execution_count": 150,
   "metadata": {
    "scrolled": false
   },
   "outputs": [
    {
     "name": "stdout",
     "output_type": "stream",
     "text": [
      "TODO ici il faudra faire arreter le programme ! On ecrase les fichiers !\n"
     ]
    }
   ],
   "source": [
    "parameters = Parameters(nColumns = 2,\n",
    "                        nFeatMaps = [3,6],\n",
    "                        nFeatureMaps_init = 3,\n",
    "                        number_classes = 20,\n",
    "\n",
    "                        width_image_initial = 2048, height_image_initial = 1024,\n",
    "                        width_image_crop = 19, height_image_crop = 19,\n",
    "\n",
    "                        dropFactor = 0.1,\n",
    "                        learning_rate=0.01,\n",
    "                        weight_decay = 5*10**(-6),\n",
    "                        beta1 = 0.9,\n",
    "                        beta2 = 0.999,\n",
    "                        epsilon = 1*10**(-8),\n",
    "                        batch_size = 2,\n",
    "                        epoch_total = 3,\n",
    "                        # The actual epoch is not null if we train the network which is already train\n",
    "                        actual_epoch = 0,\n",
    "\n",
    "                        path_save_net = \"Model/\",\n",
    "                        #Name of the network, used for store\n",
    "                        name_network = \"test\",\n",
    "                        train_number = 0,\n",
    "                        path_CSV = \"CSV/\",\n",
    "                        path_data = \"/media/tanguy/Seagate Expansion Drive/Cityscapes_Copy\")\n",
    "\n",
    " \n",
    "%run GridNet_structure.ipynb #Good trick to launch another notebook\n",
    "%run Plot.ipynb \n",
    "%run Save_import.ipynb\n",
    "%run Loss_Error.ipynb\n",
    "\n",
    "def main_new_learning():\n",
    "\n",
    "    #import GridNet_structure.ipynb\n",
    "    #%run GridNet_structure.ipynb #Good trick to launch another notebook\n",
    "    #%run Plot.ipynb \n",
    "    #%run Save_import.ipynb\n",
    "    #%run Loss_Error.ipynb\n",
    "    #List of parameter that will be used\n",
    "    \n",
    "    \n",
    "    #Transformation that will be apply on the data just after the import\n",
    "    transform = transforms.Compose([\n",
    "        transforms.CenterCrop(parameters.width_image_crop),\n",
    "        transforms.ToTensor(),\n",
    "    ])\n",
    "\n",
    "    target_transform = transforms.Compose([\n",
    "        transforms.CenterCrop(parameters.width_image_crop),\n",
    "        transforms.ToTensor()\n",
    "    ])\n",
    "    \n",
    "    #Import both dataset with the transformation\n",
    "    train_dataset = CityScapes_final('fine', 'train',transform = transform, target_transform = target_transform)\n",
    "    val_dataset = CityScapes_final('fine', 'val',transform = transform, target_transform = transform)\n",
    "\n",
    "    # Creat the DataSet for pytorch used\n",
    "    train_loader = torch.utils.data.DataLoader(train_dataset, batch_size=parameters.batch_size, shuffle=True,\n",
    "                                               num_workers=0,drop_last=True)\n",
    "    val_loader = torch.utils.data.DataLoader(val_dataset, batch_size=10, num_workers=0,drop_last=True)\n",
    "    \n",
    "    # Define the GridNet\n",
    "    network = gridNet(nInputs = parameters.nFeatureMaps_init,nOutputs = parameters.number_classes,\n",
    "                      nColumns = parameters.nColumns,nFeatMaps = parameters.nFeatMaps, dropFactor = parameters.dropFactor)\n",
    "\n",
    "    #Init the csv file that will store the error\n",
    "    init_csv(name_network = parameters.name_network,train_number = parameters.train_number,path_CSV = parameters.path_CSV)\n",
    "\n",
    "    #Train the network\n",
    "    train(network = network, parameters = parameters, train_loader = train_loader, val_loader = val_loader)\n",
    "\n",
    "    #organise_CSV(parameters.name_network,parameters.train_number)\n",
    "    #\n",
    "    \n",
    "main_new_learning()"
   ]
  },
  {
   "cell_type": "code",
   "execution_count": 152,
   "metadata": {},
   "outputs": [
    {
     "name": "stdout",
     "output_type": "stream",
     "text": [
      "          Set  Epoch     Value\n",
      "0       train      0  2.933032\n",
      "1       train      1  2.805802\n",
      "2       train      2  2.701037\n",
      "3  validation      0  2.870479\n",
      "4  validation      1  2.760508\n",
      "5  validation      2  2.641921\n"
     ]
    }
   ],
   "source": [
    "organise_CSV(parameters.name_network,parameters.train_number)"
   ]
  },
  {
   "cell_type": "code",
   "execution_count": 260,
   "metadata": {
    "collapsed": true
   },
   "outputs": [],
   "source": [
    "%run GridNet_structure.ipynb #Good trick to launch another notebook\n",
    "%run Plot.ipynb \n",
    "%run Save_import.ipynb\n",
    "%run Loss_Error.ipynb"
   ]
  },
  {
   "cell_type": "code",
   "execution_count": 263,
   "metadata": {},
   "outputs": [
    {
     "data": {
      "image/png": "[encoded data removed]",
      "text/plain": [
       "<matplotlib.figure.Figure at 0x7f91e91a3208>"
      ]
     },
     "metadata": {},
     "output_type": "display_data"
    }
   ],
   "source": [
    "plot_mat_confusion(parameters.name_network,parameters.train_number,2)"
   ]
  },
  {
   "cell_type": "code",
   "execution_count": 122,
   "metadata": {},
   "outputs": [
    {
     "data": {
      "image/png": "[encoded data removed]",
      "text/plain": [
       "<matplotlib.figure.Figure at 0x7f92004311d0>"
      ]
     },
     "metadata": {},
     "output_type": "display_data"
    },
    {
     "name": "stdout",
     "output_type": "stream",
     "text": [
      "<ggplot: (8766565966975)>\n"
     ]
    }
   ],
   "source": [
    "plot_loss(parameters.name_network,parameters.train_number)"
   ]
  },
  {
   "cell_type": "code",
   "execution_count": 27,
   "metadata": {
    "scrolled": true
   },
   "outputs": [
    {
     "name": "stdout",
     "output_type": "stream",
     "text": [
      "2\n",
      "=> loading checkpoint 'Model/0test0checkpoint.pth.tar'\n",
      "=> loaded checkpoint 'Model/0test0checkpoint.pth.tar' (epoch 1)\n",
      "<bound method Module.named_parameters of gridNet(\n",
      "  (batchNormInitial): BatchNorm2d(3, eps=1e-05, momentum=0.1, affine=True)\n",
      "  (firstConv): firstConv(\n",
      "    (conv1): Conv2d (3, 3, kernel_size=(3, 3), stride=(1, 1), padding=(1, 1))\n",
      "    (batch1): BatchNorm2d(3, eps=1e-05, momentum=0.1, affine=True)\n",
      "    (ReLU1): ReLU()\n",
      "    (conv2): Conv2d (3, 3, kernel_size=(3, 3), stride=(1, 1), padding=(1, 1))\n",
      "    (batch2): BatchNorm2d(3, eps=1e-05, momentum=0.1, affine=True)\n",
      "    (ReLU2): ReLU()\n",
      "  )\n",
      "  (convSequence0_0to0_1): convSequence(\n",
      "    (batch1): BatchNorm2d(3, eps=1e-05, momentum=0.1, affine=True)\n",
      "    (conv1): Conv2d (3, 3, kernel_size=(3, 3), stride=(1, 1), padding=(1, 1))\n",
      "    (ReLU1): ReLU()\n",
      "    (batch2): BatchNorm2d(3, eps=1e-05, momentum=0.1, affine=True)\n",
      "    (conv2): Conv2d (3, 3, kernel_size=(3, 3), stride=(1, 1), padding=(1, 1))\n",
      "    (ReLU2): ReLU()\n",
      "  )\n",
      "  (subSamplingSequence0_0to1_0): subSamplingSequence(\n",
      "    (batch1): BatchNorm2d(3, eps=1e-05, momentum=0.1, affine=True)\n",
      "    (conv1): Conv2d (3, 6, kernel_size=(3, 3), stride=(2, 2), padding=(1, 1))\n",
      "    (ReLU1): ReLU()\n",
      "    (batch2): BatchNorm2d(6, eps=1e-05, momentum=0.1, affine=True)\n",
      "    (conv2): Conv2d (6, 6, kernel_size=(3, 3), stride=(1, 1), padding=(1, 1))\n",
      "    (ReLU2): ReLU()\n",
      "  )\n",
      "  (convSequence1_0to1_1): convSequence(\n",
      "    (batch1): BatchNorm2d(6, eps=1e-05, momentum=0.1, affine=True)\n",
      "    (conv1): Conv2d (6, 6, kernel_size=(3, 3), stride=(1, 1), padding=(1, 1))\n",
      "    (ReLU1): ReLU()\n",
      "    (batch2): BatchNorm2d(6, eps=1e-05, momentum=0.1, affine=True)\n",
      "    (conv2): Conv2d (6, 6, kernel_size=(3, 3), stride=(1, 1), padding=(1, 1))\n",
      "    (ReLU2): ReLU()\n",
      "  )\n",
      "  (upSamplingSequence1_1to0_1): upSamplingSequence(\n",
      "    (batch1): BatchNorm2d(6, eps=1e-05, momentum=0.1, affine=True)\n",
      "    (convTranspose1): ConvTranspose2d (6, 3, kernel_size=(3, 3), stride=(2, 2), padding=(1, 1))\n",
      "    (ReLU1): ReLU()\n",
      "    (batch2): BatchNorm2d(3, eps=1e-05, momentum=0.1, affine=True)\n",
      "    (conv2): Conv2d (3, 3, kernel_size=(3, 3), stride=(1, 1), padding=(1, 1))\n",
      "    (ReLU2): ReLU()\n",
      "  )\n",
      "  (lastConv): lastConv(\n",
      "    (conv1): Conv2d (3, 20, kernel_size=(3, 3), stride=(1, 1), padding=(1, 1))\n",
      "    (batch1): BatchNorm2d(20, eps=1e-05, momentum=0.1, affine=True)\n",
      "    (ReLU1): ReLU()\n",
      "    (conv2): Conv2d (20, 20, kernel_size=(3, 3), stride=(1, 1), padding=(1, 1))\n",
      "    (batch2): BatchNorm2d(20, eps=1e-05, momentum=0.1, affine=True)\n",
      "    (ReLU2): ReLU()\n",
      "  )\n",
      "  (batchNormFinal): BatchNorm2d(3, eps=1e-05, momentum=0, affine=True)\n",
      "  (logsoftmax1): LogSoftmax()\n",
      ")>\n",
      "/media/tanguy/Seagate Expansion Drive/Cityscapes_Copy\n"
     ]
    }
   ],
   "source": [
    "network = gridNet(nInputs = parameters.nFeatureMaps_init,nOutputs = 20,\n",
    "                      nColumns = parameters.nColumns,nFeatMaps = parameters.nFeatMaps, dropFactor = parameters.dropFactor)\n",
    "optimizer2 = optim.Adam(params = network.parameters(), lr = 0.5,\n",
    "                           betas = (parameters.beta1, parameters.beta2),\n",
    "                           eps = parameters.epsilon, weight_decay = parameters.weight_decay)\n",
    "\n",
    "\n",
    "print(network.nColumns)\n",
    "#print(optimizer2.state)\n",
    "\n",
    "a = load_from_checkpoint(path_checkpoint=\"Model/0test0checkpoint.pth.tar\",network=network,optimizer=optimizer2)\n",
    "#print(optimizer2.lr)\n",
    "print(a.path_data)"
   ]
  },
  {
   "cell_type": "code",
   "execution_count": 78,
   "metadata": {},
   "outputs": [
    {
     "name": "stdout",
     "output_type": "stream",
     "text": [
      "<torch.utils.data.dataloader.DataLoader object at 0x7f0e900d4cf8>\n"
     ]
    }
   ],
   "source": [
    "train2(network = network, parameters = parameters, train_loader = train_loader, val_loader = val_loader)\n",
    "\n",
    "plot_loss(name_network = parameters.name_network, train_number = parameters.train_number)\n",
    "\n",
    "plot_confusion(parameters.name_network,parameters.train_number)"
   ]
  }
 ],
 "metadata": {
  "kernelspec": {
   "display_name": "Python 3",
   "language": "python",
   "name": "python3"
  },
  "language_info": {
   "codemirror_mode": {
    "name": "ipython",
    "version": 3
   },
   "file_extension": ".py",
   "mimetype": "text/x-python",
   "name": "python",
   "nbconvert_exporter": "python",
   "pygments_lexer": "ipython3",
   "version": "3.6.1"
  }
 },
 "nbformat": 4,
 "nbformat_minor": 2
}
