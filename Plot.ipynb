{
 "cells": [
  {
   "cell_type": "code",
   "execution_count": 6,
   "metadata": {
    "collapsed": true
   },
   "outputs": [],
   "source": [
    "def organise_CSV(name_network,train_number):\n",
    "    loss_DF = pd.read_csv(\"CSV/CSV_loss_\" + name_network + str(train_number) + \".csv\")\n",
    "    loss_DF = loss_DF.groupby(['Set','Epoch'])['Value'].mean().reset_index()\n",
    "    loss_DF.to_csv(\"CSV/CSV_loss_\" + name_network + str(train_number) + \".csv\",index = False)\n",
    "    \n",
    "    loss_DF = pd.read_csv(\"CSV/CSV_confMat_\" + name_network + str(train_number) + \".csv\")\n",
    "    loss_DF = loss_DF.groupby(['Target','Prediction','Epoch','Set'])['Value'].sum().reset_index()\n",
    "    loss_DF.to_csv(\"CSV/CSV_confMat_\" + name_network + str(train_number) + \".csv\",index = False)"
   ]
  },
  {
   "cell_type": "code",
   "execution_count": 2,
   "metadata": {
    "collapsed": true
   },
   "outputs": [],
   "source": [
    "def plot_loss(name_network,train_number):\n",
    "    loss_DF = pd.read_csv(\"CSV/CSV_loss_\" + name_network + str(train_number) + \".csv\")\n",
    "    my_plot_loss = ggplot(aes(x=\"Epoch\", y=\"Value\",color = \"Set\"),data = loss_DF) + geom_line() \n",
    "    print(my_plot_loss)"
   ]
  },
  {
   "cell_type": "code",
   "execution_count": 8,
   "metadata": {
    "collapsed": true
   },
   "outputs": [],
   "source": [
    "def plot_IuO(name_network,train_number,epoch):\n",
    "    conf_DF = pd.read_csv(\"CSV/CSV_confMat_\" + name_network + str(train_number) + \".csv\")\n",
    "    a = conf_DF[conf_DF['Prediction'].apply(lambda x: x==\"class0\")]\n",
    "    my_plot_conf_mat = ggplot(aes(x = \"Epoch\", y = \"Value\", color = \"Target\",size = \"Set\"),data = a) + geom_line()\n",
    "    print(my_plot_conf_mat)"
   ]
  },
  {
   "cell_type": "code",
   "execution_count": null,
   "metadata": {
    "collapsed": true
   },
   "outputs": [],
   "source": [
    "def plot_mat_confusion(name_network,train_number,epoch):\n",
    "    conf_DF = pd.read_csv(\"CSV/CSV_confMat_\" + name_network + str(train_number) + \".csv\")\n",
    "    loss_DF = pd.read_csv(\"CSV/CSV_confMat_\" + name_network + str(train_number) + \".csv\")\n",
    "\n",
    "    loss_DF = loss_DF[loss_DF[\"Epoch\"]==1]\n",
    "    loss_DF = loss_DF[loss_DF[\"Set\"]==\"train\"]\n",
    "\n",
    "    conf_mat_for_plot = np.zeros((20,20))\n",
    "    for i in range(20):\n",
    "        for j in range(20):\n",
    "            conf_mat_for_plot[i,j] = loss_DF.loc[(loss_DF[\"Prediction\"]==(\"class\"+str(i))) & (loss_DF[\"Target\"]==(\"class\"+str(j)))].iloc[:,4].values\n",
    "\n",
    "    fig, ax = plt.subplots()\n",
    "    fig.set_size_inches(20, 20)\n",
    "    sns.heatmap(conf_mat_for_plot,annot=True,ax=ax)\n",
    "    plt.show()"
   ]
  },
  {
   "cell_type": "code",
   "execution_count": null,
   "metadata": {
    "collapsed": true
   },
   "outputs": [],
   "source": []
  },
  {
   "cell_type": "code",
   "execution_count": 1,
   "metadata": {
    "collapsed": true
   },
   "outputs": [],
   "source": [
    "def plot_training(loss_train,conf_mat_train,IoU_classes_train,IoU_total_train):\n",
    "    fig = plt.figure(1)\n",
    "    plt.clf()\n",
    "    ax = fig.add_subplot(111)\n",
    "    ax.set_aspect(1)\n",
    "    res = ax.imshow(np.array(conf_mat_train[-1]), cmap=plt.cm.jet, \n",
    "                    interpolation='nearest')\n",
    "    cb = fig.colorbar(res)\n",
    "    plt.show()\n",
    "    \n",
    "    ggplot(aes(),data = IoU_classes_train)+ geom_point(x=\"0\",y=\"1\")\n",
    "    \n",
    "\n",
    "    \n",
    "\n",
    "\n",
    "\n",
    "#plot_training(loss_train,conf_mat_train,IoU_classes_train,IoU_total_train)"
   ]
  },
  {
   "cell_type": "code",
   "execution_count": null,
   "metadata": {
    "collapsed": true
   },
   "outputs": [],
   "source": []
  }
 ],
 "metadata": {
  "kernelspec": {
   "display_name": "Python 3",
   "language": "python",
   "name": "python3"
  },
  "language_info": {
   "codemirror_mode": {
    "name": "ipython",
    "version": 3
   },
   "file_extension": ".py",
   "mimetype": "text/x-python",
   "name": "python",
   "nbconvert_exporter": "python",
   "pygments_lexer": "ipython3",
   "version": "3.6.1"
  }
 },
 "nbformat": 4,
 "nbformat_minor": 2
}
