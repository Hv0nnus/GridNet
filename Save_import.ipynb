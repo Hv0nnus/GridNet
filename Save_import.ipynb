{
 "cells": [
  {
   "cell_type": "markdown",
   "metadata": {},
   "source": [
    "# Save Loss and Error"
   ]
  },
  {
   "cell_type": "code",
   "execution_count": 18,
   "metadata": {
    "collapsed": true
   },
   "outputs": [],
   "source": [
    "\"\"\" Creat two CSV files in wich the data of the training/validation will be store.\n",
    "    (0) = path : path to store the CSV files\n",
    "    (1) = name_network : name of the network associated with the CSV files\n",
    "    (2) = train_number : number of train associated with the CSV files\n",
    "\"\"\"\n",
    "def init_csv(path_CSV,name_network,train_number):\n",
    "    \n",
    "    # Stop the program if the CSV file already exist !\n",
    "    if(exists(path_CSV + \"CSV_confMat_\" + name_network + str(train_number) + \".csv\")):\n",
    "        print(\"TODO ici il faudra faire arreter le programme ! On ecrase les fichiers !\")\n",
    "        #TODO ici il faudra faire arreter le programme !\n",
    "    \n",
    "    # header of the futur Pandas DataFrames\n",
    "    header_confMat = [\"Set\",\"Value\",\"Target\",\"Prediction\",\"Epoch\"]\n",
    "    header_loss = [\"Value\",\"Set\",\"Epoch\"]\n",
    "    \n",
    "    # Try to open the file and write the header\n",
    "    with open(path_CSV + \"CSV_confMat_\" + name_network + str(train_number) + \".csv\", 'w') as csvfile:\n",
    "        cwriter = csv.writer(csvfile, delimiter=',', quoting=csv.QUOTE_MINIMAL)\n",
    "        cwriter.writerow(header_confMat)\n",
    "\n",
    "    # Try to open the file and write the header\n",
    "    with open(path_CSV + \"CSV_loss_\" + name_network + str(train_number) + \".csv\", 'w') as csvfile:\n",
    "        cwriter = csv.writer(csvfile, delimiter=',', quoting=csv.QUOTE_MINIMAL)\n",
    "        cwriter.writerow(header_loss)"
   ]
  },
  {
   "cell_type": "code",
   "execution_count": 19,
   "metadata": {
    "collapsed": true
   },
   "outputs": [],
   "source": [
    "def save_error(x_train,y_train,x_validation,y_validation,network,epoch,name_network,train_number,path_CSV):\n",
    "    \n",
    "    #Compute the forward function for the train and the validation\n",
    "    y_train_estimated = network(x_train)\n",
    "    y_validation_estimated = network(x_validation)\n",
    "    \n",
    "    # compute the matrice of confusion between classes\n",
    "    conf_mat_train = IoU_pd_format(y_train_estimated, y_train, Set = \"train\", epoch = epoch)\n",
    "    conf_mat_validation = IoU_pd_format(y_validation_estimated, y_validation, Set = \"validation\", epoch = epoch)\n",
    "    \n",
    "    with open(path_CSV + \"CSV_confMat_\" + name_network + str(train_number) + \".csv\", 'a') as csvfile:\n",
    "        writer = csv.writer(csvfile, quoting=csv.QUOTE_NONNUMERIC)\n",
    "        writer.writerows(conf_mat_train)\n",
    "        writer.writerows(conf_mat_validation)\n",
    "\n",
    "    loss_train = criterion_pd_format(y_estimated = y_train_estimated,y = y_train,epoch=epoch,Set = \"train\")\n",
    "    loss_validation = criterion_pd_format(y_estimated = y_validation_estimated,y = y_validation,\n",
    "                                          epoch=epoch, Set= \"validation\")\n",
    "\n",
    "    with open(path_CSV + \"CSV_loss_\" + name_network + str(train_number) + \".csv\", 'a') as csvfile:\n",
    "        writer = csv.writer(csvfile, quoting=csv.QUOTE_NONNUMERIC)\n",
    "        writer.writerows([loss_train])\n",
    "        writer.writerows([loss_validation])\n"
   ]
  },
  {
   "cell_type": "markdown",
   "metadata": {},
   "source": [
    "# Save and import entire network"
   ]
  },
  {
   "cell_type": "code",
   "execution_count": 93,
   "metadata": {
    "collapsed": true
   },
   "outputs": [],
   "source": [
    "def save_checkpoint(state, filename='checkpoint.pth.tar'):\n",
    "    torch.save(state, filename)\n",
    "    \n",
    "    \n",
    "\n",
    "def load_from_checkpoint(path_checkpoint,network,optimizer):\n",
    "    if (os.path.isfile(path_checkpoint)):\n",
    "        print(\"=> loading checkpoint '{}'\".format(path_checkpoint))\n",
    "        checkpoint = torch.load(path_checkpoint)\n",
    "        #parameters.epoch = checkpoint['epoch']\n",
    "        parameters = checkpoint['parameters']\n",
    "        network.load_state_dict(checkpoint['state_dict'])\n",
    "        optimizer.load_state_dict(checkpoint['optimizer'])\n",
    "        print(\"=> loaded checkpoint '{}' (epoch {})\"\n",
    "              .format(path_checkpoint, checkpoint['epoch']))\n",
    "    else:\n",
    "        print(\"=> no checkpoint found at '{}'\".format(path_checkpoint))\n",
    "    return(parameters)"
   ]
  },
  {
   "cell_type": "code",
   "execution_count": null,
   "metadata": {
    "collapsed": true
   },
   "outputs": [],
   "source": []
  },
  {
   "cell_type": "markdown",
   "metadata": {},
   "source": [
    "# Import Data"
   ]
  },
  {
   "cell_type": "code",
   "execution_count": null,
   "metadata": {
    "collapsed": true
   },
   "outputs": [],
   "source": [
    "palette = [128, 64, 128, 244, 35, 232, 70, 70, 70, 102, 102, 156, 190, 153, 153, 153, 153, 153, 250, 170, 30,\n",
    "           220, 220, 0, 107, 142, 35, 152, 251, 152, 70, 130, 180, 220, 20, 60, 255, 0, 0, 0, 0, 142, 0, 0, 70,\n",
    "           0, 60, 100, 0, 80, 100, 0, 0, 230, 119, 11, 32]\n",
    "zero_pad = 256 * 3 - len(palette)\n",
    "for i in range(zero_pad):\n",
    "    palette.append(0)\n",
    "\n",
    "\n",
    "def colorize_mask(mask):\n",
    "    # mask: numpy array of the mask\n",
    "    new_mask = Image.fromarray(mask.astype(np.uint8)).convert('P')\n",
    "    new_mask.putpalette(palette)"
   ]
  },
  {
   "cell_type": "code",
   "execution_count": 2,
   "metadata": {},
   "outputs": [
    {
     "ename": "NameError",
     "evalue": "name 'data' is not defined",
     "output_type": "error",
     "traceback": [
      "\u001b[0;31m---------------------------------------------------------------------------\u001b[0m",
      "\u001b[0;31mNameError\u001b[0m                                 Traceback (most recent call last)",
      "\u001b[0;32m<ipython-input-2-12550b6296d6>\u001b[0m in \u001b[0;36m<module>\u001b[0;34m()\u001b[0m\n\u001b[1;32m     23\u001b[0m \u001b[0;34m\u001b[0m\u001b[0m\n\u001b[1;32m     24\u001b[0m \u001b[0;34m\u001b[0m\u001b[0m\n\u001b[0;32m---> 25\u001b[0;31m \u001b[0;32mclass\u001b[0m \u001b[0mCityScapes_final\u001b[0m\u001b[0;34m(\u001b[0m\u001b[0mdata\u001b[0m\u001b[0;34m.\u001b[0m\u001b[0mDataset\u001b[0m\u001b[0;34m)\u001b[0m\u001b[0;34m:\u001b[0m\u001b[0;34m\u001b[0m\u001b[0m\n\u001b[0m\u001b[1;32m     26\u001b[0m     \u001b[0;32mdef\u001b[0m \u001b[0m__init__\u001b[0m\u001b[0;34m(\u001b[0m\u001b[0mself\u001b[0m\u001b[0;34m,\u001b[0m \u001b[0mquality\u001b[0m\u001b[0;34m,\u001b[0m \u001b[0mmode\u001b[0m\u001b[0;34m,\u001b[0m \u001b[0mjoint_transform\u001b[0m\u001b[0;34m=\u001b[0m\u001b[0;32mNone\u001b[0m\u001b[0;34m,\u001b[0m \u001b[0msliding_crop\u001b[0m\u001b[0;34m=\u001b[0m\u001b[0;32mNone\u001b[0m\u001b[0;34m,\u001b[0m \u001b[0mtransform\u001b[0m\u001b[0;34m=\u001b[0m\u001b[0;32mNone\u001b[0m\u001b[0;34m,\u001b[0m \u001b[0mtarget_transform\u001b[0m\u001b[0;34m=\u001b[0m\u001b[0;32mNone\u001b[0m\u001b[0;34m)\u001b[0m\u001b[0;34m:\u001b[0m\u001b[0;34m\u001b[0m\u001b[0m\n\u001b[1;32m     27\u001b[0m         \u001b[0mself\u001b[0m\u001b[0;34m.\u001b[0m\u001b[0mimgs\u001b[0m \u001b[0;34m=\u001b[0m \u001b[0mmake_dataset\u001b[0m\u001b[0;34m(\u001b[0m\u001b[0mquality\u001b[0m\u001b[0;34m,\u001b[0m \u001b[0mmode\u001b[0m\u001b[0;34m)\u001b[0m\u001b[0;34m\u001b[0m\u001b[0m\n",
      "\u001b[0;31mNameError\u001b[0m: name 'data' is not defined"
     ]
    }
   ],
   "source": [
    "def make_dataset(quality, mode):\n",
    "    assert (quality == 'fine' and mode in ['train', 'val']) or \\\n",
    "           (quality == 'coarse' and mode in ['train', 'train_extra', 'val'])\n",
    "\n",
    "    if quality == 'coarse':\n",
    "        img_dir_name = path + '/leftImg8bit'\n",
    "        mask_path = os.path.join(parameters.path_data, 'gtCoarse', mode)\n",
    "        mask_postfix = '_gtCoarse_labelIds.png'\n",
    "    else:\n",
    "        img_dir_name = 'leftImg8bit'\n",
    "        mask_path = os.path.join(parameters.path_data, 'gtFine', mode)\n",
    "        mask_postfix = '_gtFine_labelIds.png'\n",
    "\n",
    "    img_path = os.path.join(parameters.path_data, img_dir_name, mode)\n",
    "    assert os.listdir(img_path) == os.listdir(mask_path)\n",
    "    items = []\n",
    "    categories = os.listdir(img_path)\n",
    "    for c in categories:\n",
    "        c_items = [name.split('_leftImg8bit.png')[0] for name in os.listdir(os.path.join(img_path, c))]\n",
    "        for it in c_items:\n",
    "            item = (os.path.join(img_path, c, it + '_leftImg8bit.png'), os.path.join(mask_path, c, it + mask_postfix))\n",
    "            items.append(item)\n",
    "    return items\n",
    "\n",
    "\n",
    "class CityScapes_final(data.Dataset):\n",
    "    def __init__(self, quality, mode, joint_transform=None, sliding_crop=None, transform=None, target_transform=None):\n",
    "        self.imgs = make_dataset(quality, mode)\n",
    "        if len(self.imgs) == 0:\n",
    "            raise RuntimeError('Found 0 images, please check the data set')\n",
    "        self.quality = quality\n",
    "        self.mode = mode\n",
    "        self.joint_transform = joint_transform\n",
    "        self.sliding_crop = sliding_crop\n",
    "        self.transform = transform\n",
    "        self.target_transform = target_transform\n",
    "        ignore_label = parameters.number_classes - 1\n",
    "        self.id_to_trainid = {-1: ignore_label, 0: ignore_label, 1: ignore_label, 2: ignore_label,\n",
    "                              3: ignore_label, 4: ignore_label, 5: ignore_label, 6: ignore_label,\n",
    "                              7: 0, 8: 1, 9: ignore_label, 10: ignore_label, 11: 2, 12: 3, 13: 4,\n",
    "                              14: ignore_label, 15: ignore_label, 16: ignore_label, 17: 5,\n",
    "                              18: ignore_label, 19: 6, 20: 7, 21: 8, 22: 9, 23: 10, 24: 11, 25: 12, 26: 13, 27: 14,\n",
    "                              28: 15, 29: ignore_label, 30: ignore_label, 31: 16, 32: 17, 33: 18}\n",
    "\n",
    "    def __getitem__(self, index):\n",
    "        img_path, mask_path = self.imgs[index]\n",
    "        img, mask = Image.open(img_path).convert('RGB'), Image.open(mask_path)\n",
    "\n",
    "        mask = np.array(mask)\n",
    "\n",
    "        mask_copy = mask.copy()\n",
    "        \n",
    "        for k, v in self.id_to_trainid.items():\n",
    "            mask_copy[mask == k] = v\n",
    "            \n",
    "        mask = Image.fromarray(mask_copy.astype(np.uint8))\n",
    "        \n",
    "        if self.joint_transform is not None:\n",
    "            img, mask = self.joint_transform(img, mask)\n",
    "                 \n",
    "        if self.sliding_crop is not None:\n",
    "            img_slices, mask_slices, slices_info = self.sliding_crop(img, mask)\n",
    "            \n",
    "            if self.transform is not None:\n",
    "                img_slices = [self.transform(e) for e in img_slices]\n",
    "            if self.target_transform is not None:\n",
    "                mask_slices = [self.target_transform(e) for e in mask_slices]\n",
    "            img, mask = torch.stack(img_slices, 0), torch.stack(mask_slices, 0)\n",
    "            mask = torch.squeeze(mask)\n",
    "            return img, mask.long(), torch.LongTensor(slices_info)\n",
    "        else:\n",
    "            if self.transform is not None:\n",
    "                img = self.transform(img)\n",
    "            if self.target_transform is not None:\n",
    "                mask = self.target_transform(mask)\n",
    "            mask = torch.squeeze(mask)\n",
    "            #mask_copy = torch.rand(19,19,19)            \n",
    "            #for k in range(19):\n",
    "            #    mask_copy[k,:,:] = (mask == k)*1\n",
    "\n",
    "            return img, mask.long()\n",
    "        \n",
    "    def __len__(self):\n",
    "        return len(self.imgs)"
   ]
  }
 ],
 "metadata": {
  "kernelspec": {
   "display_name": "Python 3",
   "language": "python",
   "name": "python3"
  },
  "language_info": {
   "codemirror_mode": {
    "name": "ipython",
    "version": 3
   },
   "file_extension": ".py",
   "mimetype": "text/x-python",
   "name": "python",
   "nbconvert_exporter": "python",
   "pygments_lexer": "ipython3",
   "version": "3.6.1"
  }
 },
 "nbformat": 4,
 "nbformat_minor": 2
}
